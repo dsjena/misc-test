{
  "nbformat": 4,
  "nbformat_minor": 0,
  "metadata": {
    "colab": {
      "name": "PCM.ipynb",
      "provenance": [],
      "include_colab_link": true
    },
    "kernelspec": {
      "display_name": "Python 3",
      "language": "python",
      "name": "python3"
    },
    "language_info": {
      "codemirror_mode": {
        "name": "ipython",
        "version": 3
      },
      "file_extension": ".py",
      "mimetype": "text/x-python",
      "name": "python",
      "nbconvert_exporter": "python",
      "pygments_lexer": "ipython3",
      "version": "3.6.9"
    },
    "widgets": {
      "application/vnd.jupyter.widget-state+json": {
        "bc1c6918f1c34bf189e612decf07cb27": {
          "model_module": "@jupyter-widgets/controls",
          "model_name": "VBoxModel",
          "state": {
            "_view_name": "VBoxView",
            "_dom_classes": [
              "widget-interact"
            ],
            "_model_name": "VBoxModel",
            "_view_module": "@jupyter-widgets/controls",
            "_model_module_version": "1.5.0",
            "_view_count": null,
            "_view_module_version": "1.5.0",
            "box_style": "",
            "layout": "IPY_MODEL_070dee0f2fc84beaad77160345611097",
            "_model_module": "@jupyter-widgets/controls",
            "children": [
              "IPY_MODEL_e9970a4b0a174af7b1a3b45835fc39ae",
              "IPY_MODEL_5d4b35c743e54f7ab02c1bfb7027666c",
              "IPY_MODEL_2e8032e5b79946609b34b28dc3dbb799",
              "IPY_MODEL_467e0466e63f4c2eaeec55c2b76ed19a"
            ]
          }
        },
        "070dee0f2fc84beaad77160345611097": {
          "model_module": "@jupyter-widgets/base",
          "model_name": "LayoutModel",
          "state": {
            "_view_name": "LayoutView",
            "grid_template_rows": null,
            "right": null,
            "justify_content": null,
            "_view_module": "@jupyter-widgets/base",
            "overflow": null,
            "_model_module_version": "1.2.0",
            "_view_count": null,
            "flex_flow": null,
            "width": null,
            "min_width": null,
            "border": null,
            "align_items": null,
            "bottom": null,
            "_model_module": "@jupyter-widgets/base",
            "top": null,
            "grid_column": null,
            "overflow_y": null,
            "overflow_x": null,
            "grid_auto_flow": null,
            "grid_area": null,
            "grid_template_columns": null,
            "flex": null,
            "_model_name": "LayoutModel",
            "justify_items": null,
            "grid_row": null,
            "max_height": null,
            "align_content": null,
            "visibility": null,
            "align_self": null,
            "height": null,
            "min_height": null,
            "padding": null,
            "grid_auto_rows": null,
            "grid_gap": null,
            "max_width": null,
            "order": null,
            "_view_module_version": "1.2.0",
            "grid_template_areas": null,
            "object_position": null,
            "object_fit": null,
            "grid_auto_columns": null,
            "margin": null,
            "display": null,
            "left": null
          }
        },
        "e9970a4b0a174af7b1a3b45835fc39ae": {
          "model_module": "@jupyter-widgets/controls",
          "model_name": "FloatSliderModel",
          "state": {
            "_view_name": "FloatSliderView",
            "style": "IPY_MODEL_1ed50bb4476f4ae3ac3b0e0bd0ad7737",
            "_dom_classes": [],
            "description": "Tf",
            "step": 0.1,
            "_model_name": "FloatSliderModel",
            "orientation": "horizontal",
            "max": 30,
            "_view_module": "@jupyter-widgets/controls",
            "_model_module_version": "1.5.0",
            "value": 27,
            "_view_count": null,
            "disabled": false,
            "_view_module_version": "1.5.0",
            "min": 20,
            "continuous_update": true,
            "readout_format": ".2f",
            "description_tooltip": null,
            "readout": true,
            "_model_module": "@jupyter-widgets/controls",
            "layout": "IPY_MODEL_5a743a7f36ca4c868722adb9c0ac203e"
          }
        },
        "5d4b35c743e54f7ab02c1bfb7027666c": {
          "model_module": "@jupyter-widgets/controls",
          "model_name": "FloatSliderModel",
          "state": {
            "_view_name": "FloatSliderView",
            "style": "IPY_MODEL_2b7164c5c22d4840a56024407ef29404",
            "_dom_classes": [],
            "description": "dTf",
            "step": 0.001,
            "_model_name": "FloatSliderModel",
            "orientation": "horizontal",
            "max": 0.1,
            "_view_module": "@jupyter-widgets/controls",
            "_model_module_version": "1.5.0",
            "value": 0.01,
            "_view_count": null,
            "disabled": false,
            "_view_module_version": "1.5.0",
            "min": 0.001,
            "continuous_update": true,
            "readout_format": ".2f",
            "description_tooltip": null,
            "readout": true,
            "_model_module": "@jupyter-widgets/controls",
            "layout": "IPY_MODEL_b561b5bbb0bd4972b807202e9adf1dac"
          }
        },
        "2e8032e5b79946609b34b28dc3dbb799": {
          "model_module": "@jupyter-widgets/controls",
          "model_name": "ButtonModel",
          "state": {
            "_view_name": "ButtonView",
            "style": "IPY_MODEL_4749d6030928418e8dae3f1f44aa8096",
            "_dom_classes": [],
            "description": "Run Interact",
            "_model_name": "ButtonModel",
            "button_style": "",
            "_view_module": "@jupyter-widgets/controls",
            "_model_module_version": "1.5.0",
            "tooltip": "",
            "_view_count": null,
            "disabled": false,
            "_view_module_version": "1.5.0",
            "layout": "IPY_MODEL_0863a09286ee47c7b0f8cc3c5e647425",
            "_model_module": "@jupyter-widgets/controls",
            "icon": ""
          }
        },
        "467e0466e63f4c2eaeec55c2b76ed19a": {
          "model_module": "@jupyter-widgets/output",
          "model_name": "OutputModel",
          "state": {
            "_view_name": "OutputView",
            "msg_id": "",
            "_dom_classes": [],
            "_model_name": "OutputModel",
            "outputs": [
              {
                "output_type": "display_data",
                "metadata": {
                  "tags": [],
                  "needs_background": "light"
                },
                "image/png": "iVBORw0KGgoAAAANSUhEUgAAAX4AAAEGCAYAAABiq/5QAAAABHNCSVQICAgIfAhkiAAAAAlwSFlzAAALEgAACxIB0t1+/AAAADh0RVh0U29mdHdhcmUAbWF0cGxvdGxpYiB2ZXJzaW9uMy4yLjEsIGh0dHA6Ly9tYXRwbG90bGliLm9yZy+j8jraAAAgAElEQVR4nO3deZwdZZ3v8c+v9y3dnV6ydiedlWwQkCaGxSBBEFxgRpE7zog4emVmdJxR8KqjM/cqM84I+tLR8d7ROHiBkbmigIKKYgxIWGRJwhKykhUSOunO2lt6Oef87h+nEpqQ7pxe6lSfPt/369Wvrn6qnqpfVTq/U/3UU89j7o6IiGSPnKgDEBGR9FLiFxHJMkr8IiJZRolfRCTLKPGLiGSZvKgDSEVNTY03NDREHYaISEZZu3btAXevPbk8IxJ/Q0MDa9asiToMEZGMYma7T1Wuph4RkSyjxC8ikmWU+EVEsowSv4hIllHiFxHJMqElfjMrMrNnzOwFM9tgZl8JymeY2dNmts3M7jazgrBiEBGRNwvzjr8bWO7ui4GzgSvMbClwC/Atd58NHAY+FmIMIiJyktASvye1Bz/mB18OLAfuCcrvAP4orBhERDKVuxPWsPmhtvGbWa6ZPQ80AyuB7cARd48Fm+wBpvZT9wYzW2Nma1paWsIMU0Rk1Nl9sJPvr97BsZ74iO871MTv7nF3PxuoA5YA8wZRd4W7N7p7Y23tm944FhEZ0xpqSvnzCxsoyh/5NJ2WXj3ufgR4BDgfqDSz40NF1AF70xGDiEimaO3qxd0pzMvFzEZ8/2H26qk1s8pguRi4DNhE8gPgmmCz64H7w4pBRCTTuDs/WL2DHzy2I7RjhHnHPxl4xMxeBJ4FVrr7L4HPAzea2TagGrgtxBhERDLK9pZ2dh/sZMHkitCOEdronO7+InDOKcp3kGzvFxGRk6za1ExZUR5LZlSFdgy9uSsiMkrsO9rFhtdaWTanhoK88NKzEr+IyCjxhx0HyM/N4aI54fZkzIiJWEREssFVi6fSOL2KssJwU7Pu+EVERgF3JzfHqK8qCf1YSvwiIhHr6o3zzw9uYv2eo2k5nhK/iEjEntx+gP2t3VQU56fleEr8IiIRiiec329pYc6EMqZVh9/MA0r8IiKRWrv7MEc6e1k+f0LajqnELyISEXdn1eb9TK4oYsHk8rQdV905RUQi9P631JFwD2Uwtv4o8YuIRMTMmDtxXNqPq6YeEZEIvHqok3vX7qGjO3b6jUeYEr+ISARWbdrP0zsPkpPGJp7jlPhFRNLsYHs3z716hAtn11BckJv24yvxi4ik2SNbWsgx4+K50Uwrq8QvIpJGHd0xntpxkHOnj6eypCCSGJT4RUTSqDeeYHF9Jcvnpe+FrZOpO6eISBpVlhRw3dLpkcagO34RkTTZsq+NVw91Rh2GEr+ISDokEs5P1rzK3c++irtHGosSv4hIGqzfe5SWtm6Wz5+Q1uEZTkWJX0QkZO7Oqk37qSotYHFdZdThKPGLiIRtx4EOdh3sZPm8CeTmRHu3D0r8IiKhO9jeQ1VpAW+dWRV1KIC6c4qIhG7JjCoap48nZxTc7YPu+EVEQrXvaBfuPmqSPijxi4iE5uixXm79zWZ+89K+qEN5AyV+EZGQrN7aQtydcxvGRx3KGyjxi4iEoKs3zuMvH+CsukomjCuKOpw3UOIXEQnBH3Yc5FhvnEsjHIytP0r8IiIheP6VI8yqLaOhpjTqUN4ktO6cZlYP3AlMBBxY4e7fNrOzge8BRUAM+IS7PxNWHCIiUfjU8tm0daV/Pt1UhNmPPwbc5O7rzGwcsNbMVgK3Al9x91+b2buCn98eYhwiImnj7iQc8nJzGF8azUQrpxNaU4+7N7n7umC5DdgETCV5918ebFYBvBZWDCIi6bZlfxtf+cUGmo4eizqUfqXlzV0zawDOAZ4GPg08ZGbfIPnBc0E/dW4AbgCYNm1aOsIUERm2VZuaSbhTU1YYdSj9Cv3hrpmVAfcCn3b3VuCvgM+4ez3wGeC2U9Vz9xXu3ujujbW10UxILCIyGHsOd7JlXxsXz51Afu7o7TsTamRmlk8y6d/l7vcFxdcDx5d/CiwJMwYRkXR5eHMzhXk5XDS7JupQBhRa4rfkTAO3AZvc/Zt9Vr0GXBwsLwdeDisGEZF0OdLZw7rdh7lgdjXFBblRhzOgMNv4LwSuA9ab2fNB2ReBjwPfNrM8oIugHV9EJJNVFOfz8WUzmVpZHHUopxVa4nf3x4H+hqM7N6zjiohEwcxYOKUi6jBSMnqfPoiIZIhHt7Zw//N7I59EPVWaiEVEZBh64wlWbtzHlMriyCdRT5Xu+EVEhuHZXYdoPRbj0nkTow4lZUr8IiJD5O48vKmZuvHFzJ1YFnU4KVPiFxEZopf2ttLc1s2l8ydkTDMPKPGLiAxZzbgCLppTw9n1o2uGrdPRw10RkSGaXFHMtY31UYcxaLrjFxEZgtVbW0b1CJwDUeIXERmk5tYu7l23h7W7D0cdypAo8YuIDNIjW5rJzTGWzc3MkYOV+EVEBqG1q5endx5iSUMV5UX5UYczJEr8IiKD8NjWA8QTzvJ5E6IOZcj67dVjZlUp1E+4+5ERjEdEZFQzg3Onj2dCeVHUoQzZQN05Xwu+BnorIRcYtfMi/vSee9mzZ0/UYYjIGOMO33o6Pceqq6vjA9e8f0T3OVDi3+Tu5wxU2cyeG9FoRERGqbjD4VgB1Xk9ZNBLuqc0UOI/P4X6qWwTmZH+lBSR7PX7Lc3ct24vH79sLg01pVGHMywDPdw908yuPLnQzN5lZucCuHtXaJGJiIwSXb1xHtqwn7kTy5heXRJ1OMM2UOK/Bdh4ivINwNfDCUdEZPR5eHMzHd0x3rt4SkYNxtafgRL/OHfffXJhUDa6p5AXERkhrV29PLy5mbPrK5lendlNPMcNlPgHGm4u8//WERFJQXNrNyUFubznrMlRhzJiBkr8vzOzr1qfv2ss6Wbg4fBDExGJ3uwJZfyv9y7M6H77Jxso8d8EzAS2mdm9ZnYv8DIwF7gxHcGJiERpy7424gknNyfz2/X76rc7p7t3AB80s5nAwqB4g7vvSEtkIiIR2nO4k//9yDauWjyFdyzInPl0UzHgRCxmVgLsV7IXkWzzixeaKCnI5cLZY68vy0Bj9fwNyRe03Myecfd/TV9YIiLReXl/G5uaWrn67CkUF+RGHc6IG+iO/3qgkeRYPWsAJX4RGfPcnQdeeI3KknzeNiczx9s/nYES/63AfcGykr6IZIW27hg98QRXLppMQd7YHLl+oIe7dwN3pzEWEZHIlRfl8/l3zos6jFCNzY8zEZEh2H2wg2M9cXJyjJwx1oWzr34Tv5mtO13lVLYREckE3bE4//HYTu74w66oQwndQG38883sxQHWG1DR70qzeuBOYCLgwAp3/3aw7lPAJ4E48Ct3/9xgAxcRGUmPbT3A0WO9XH9BQ9ShhG6gxJ9KI1d8gHUx4CZ3X2dm44C1ZraS5AfB1cBid+82s8yduFJExoTOnhgrN+5nwZRyZk8oizqc0A30cPdNI3MOhrs3AU3BcpuZbQKmAh8Hvubu3cG65uEcR0RkuFZu3E9XLM57F0+JOpS0SMvDXTNrAM4BniY51s/bzOxpM3vUzM7rp84NZrbGzNa0tLSkI0wRyULuzsH2HhobqphaWRx1OGkx4JANI8HMyoB7gU+7e6uZ5QFVwFLgPOAnZjbT3b1vPXdfAawAaGxsdEREQmBmfPSiGcTiiahDSZuU7vjNbLqZvSNYLg7a7FOpl08y6d/l7sdfBtsD3OdJzwAJNLGLiETgYHs3LW3dAOTlZk/v9tOeqZl9HLgH+H5QVAf8PIV6BtwGbHL3b/ZZ9XPgkmCbuUABcGBwYYuIDN/PntvLN1duoSeWPXf7kNod/yeBC4FWAHd/GUilJ86FwHXAcjN7Pvh6F/BDYKaZvQT8GLj+5GYeEZGw7TrQwYt7jnLx3NoxOzRDf1Jp4+92957jE3EFbfSnTdTu/jjJvv6n8qGUIxQRGWHuzi9eeI2yojzefkb29ShP5WPuUTP7IlBsZpcBPwV+EW5YIiLh2dTUxsvN7VyxcBJF+WNv2OXTSSXxfx5oAdYDfwE8CPx9mEGJiIRpX+sxJpYXcsGs6qhDicTpZuDKJTnd4jzgB+kJSUQkXMvnTWTZnNqs6snT14Bn7e5xYIuZTUtTPCIioYnFE+xoaQeyq/vmyVI58/HABjNbZWYPHP8KOzARkZH2xPaD/OvvXuaVg51RhxKpVHr1/EPoUYiIhKyrN85DG/YxZ0IZ9VXZMTRDf06b+N390XQEIiISpkc2N9PeFeOqZVM43j09W5028ZtZG6/32y8A8oEOdy8PMzARkZHS1tXLw5ubOauugunVpVGHE7lU7vhPjMsTDMNwNckB1kREMkLT0S7y83KyZtjl0xnUY+1gYLWfA+8MKR4RkRE3d+I4vnLVQiaWF0UdyqiQSlPP+/r8mAM0Al2hRSQiMoK2t7Qzo7qU/CzuvnmyVHr1vLfPcgzYRbK5R0RkVNtzuJPvrHqZq8+ewvJ5E6MOZ9RIJfH/h7s/0bfAzC4ENGWiiIxqv3yxiaK8XJbOzM6hGfqTyt8+/5ZimYjIqLGtuY2Nr7Vy2YKJlBSEPtlgRun3apjZ+cAFQK2Z3dhnVTmQfcPZiUjGcHceeP41KkvyWTa3NupwRp2BPgYLgLJgm75TLbYC14QZlIjIcLR2xejoiXPFoklZN8lKKux0k1+Z2XR3352meE6psbHR16xZE2UIIpJh4olkbsvNyd63dM1srbs3nlyeSsNXp5l9HVgInOgE6+7LRzA+EZER8eqhTiaUF1KYpxbp/qTyN9BdwGZgBvAVkt05nw0xJhGRIemJJfjBYzu448ldUYcyqqWS+Kvd/Tag190fdfePArrbF5FRZ/XWFo509rJ8XvbNozsYqTT19Abfm8zs3cBrQFV4IYmIDF5nT4yVG/ezYEo5syeMO32FLJZK4v8nM6sAbiLZf78c+EyoUYmIDNLKjfvpisV5z1mTow5l1Etlzt057v5L4ChwSVqiEhEZBHen6WgX504fT934kqjDGfUGTPzuHjezDwLfSlM8IiKDZmb8xbKZ9MYH7p4uSak09TxhZt8F7gY6jhe6+7rQohIRSdGhjh5yDCpLCijIy94++4ORSuI/O/h+c58yRz17RGQU+Nlze9ne0s5XrlqooZdTlMoMXGrXF5FRaffBDl549QhXLpqkpD8Ip71SZjbRzG4zs18HPy8ws4+FH5qISP96Ygn+65lXKCvK4xL12x+UVD4ibwceAo5PVrkV+HRYAYmIpOLnz++l6UgXf/bWaRTla3iGwUgl8de4+0+ABIC7x4B4qFGJiAzA3THgknm1LJxSEXU4GSeVh7sdZlZN8oEuZraUZJ9+EZFImBkfaKzndKMLy6mlcsd/I/AAMMvMngDuBD51ukpmVm9mj5jZRjPbYGZ/e9L6m8zMzaxmSJGLSNaJJ5z/fGo3rxzsBJIfADJ4qfTqWWdmFwNnAAZscffe01SD5MTsNwX1xwFrzWylu280s3rgcuCV4QQvItnloQ37eHbnIeZNGse0ar2hO1SnTfxmVgR8AriIZHPPY2b2PXfvGqieuzcBTcFym5ltAqYCG0m+Cfw54P7hhS8i2WJbcxsPbdjHeTOqOK9B40QORypNPXeSnITl34DvBsv/OZiDmFkDcA7wtJldDex19xdOU+cGM1tjZmtaWloGczgRGWM6umPc+Yfd1JQV8oFz66IOJ+Ol8nB3kbsv6PPzI2a2MdUDmFkZcC/JLqAx4Iskm3kG5O4rgBWQnHox1eOJyNjzyJZm2rpi3HjZXHXdHAGpJP51ZrbU3Z8CMLO3AilNgGtm+SST/l3ufp+ZnUlyJq8XgocydcH+l7j7viGdgYiMeVcumszCKRXUV6ldfySkkvjPBZ40s+MPYqcBW8xsPeDuftapKlkys98GbHL3b5LceD0woc82u4BGdz8w9FMQkbGqubWL4oJcxhXlM6OmNOpwxoxUEv8VQ9z3hcB1wHozez4o+6K7PzjE/YlIFumOxVmxegeF+Tl89vIz1HVzBKXSnXO3mY0H6vtuf7phmd39cZLdPwfapiG1MEUk29y7di8t7d389SWzlfRHWCrdOf8R+AiwneDtXTQss4iEaO3uwzy14yCXL5zInImaP3ekpdLUcy0wy917wg5GRORAezc/fuYVGmpKuXKR5s8NQyqJ/yWgEmgOORYREYrzczmzroJ3nzmZ3Bw18YQhlcT/L8BzZvYS0H280N2vCi0qEclK7k5pYR4fPr8h6lDGtFQS/x3ALcB6gqGZRURG2qamVn790j4+dtEMKorzow5nTEsl8Xe6+3dCj0REslZrVy//+dRuxhXmUZSvKRTDlkrif8zM/oXk0Mx9m3oG7M4pIpIKd+dHT+2mqzfOX18ym8I8DckQtlQS/znB96V9ytSdU0RGxMObm9nc1Ma1jfVMqSyOOpyskMoLXJekIxARyT7xhPPMrkMsrq/kwtnVUYeTNVJ5gWsi8M/AFHe/0swWAOe7+22hRyciY1pujvGZd8zFXbNppVMqT1FuBx4CpgQ/byU5xLKIyJC4O3/YfpDuWJyi/FyKC9Sun079Jn4zO/7XQI27/4SgK6e7x4B4GmITkTHq6Z2H+H/PvMLTOw5FHUpWGuiO/5nge4eZVROM02NmS4GjYQcmImPT/tYu7lm7hzkTyrhodk3U4WSlgdr4jze43UiyK+csM3sCqAWuCTswERl7euMJbn9yF/m5xofPbyBHQzJEYqDEX2tmNwbLPwMeJPlh0A28A3gx5NhEZIx5cH0Tew8f44ZlM6ko0du5URko8ecCZbx5TH3NfSYiQ3LBrBoqivNZNLUi6lCy2kCJv8ndb05bJCIyZnX1xinMy6F2XCFvP2PC6StIqAZ6uKvGNxEZtkTCWbF6Bz96+pXTbyxpMVDivzRtUYjImPXbjfvZ1tzO3AllUYcigX4Tv7urg62IDMv2lnZ+/VITjQ3jWTKjKupwJKDxT0UkFB3dMe58chfVpYVc21ivIRlGESV+EQnFgfZuHPjIBQ0U5WtIhtEklWGZRUQGbXp1Kf/wngXk5+r+crTRv4iIjKi9R47x0IZ9JBKupD9K6V9FREZMV2+cO57cxWMvt9DZq7EcRyslfhEZEYc7evjW77bS0tbNdUsbKCtUS/JopX8ZERm2Vw918v3V2+mJJfjLi2dxxqRxUYckA1DiF5Fha++OkZ+bwyfePlvz5mYANfWIyJC9duQYAPMnl/Old81X0s8QSvwiMmjuzv3P7+WW32xmR0s7AHnqwZMxQvuXMrN6M3vEzDaa2QYz+9ug/OtmttnMXjSzn5lZZVgxiMjI64kl+OETu1i1qZmLZtcwvbo06pBkkML8iI4BN7n7AmAp8EkzWwCsBBa5+1kkJ27/uxBjEJER1NbVy3cffpkX9xzhj8+ZyjXn1pGrWbQyTmgPd929CWgKltvMbBMw1d1/22ezp9A0jiIZY/2eo+w5coyPXjiDxfX6Yz1TpaVXj5k1AOcAT5+06qPA3f3UuQG4AWDatGkhRicip9PVG6coP5fzZ1VzxqRxVJcVRh2SDEPoT2PMrAy4F/i0u7f2Kf8Syeagu05Vz91XuHujuzfW1taGHaaI9GPNrkPc/MuNNB09hpkp6Y8Bod7xm1k+yaR/l7vf16f8I8B7gEvd3cOMQUSGxt357cb9/OrFJmZPKKO8SJOjjxWhJX5LDr59G7DJ3b/Zp/wK4HPAxe7eGdbxRWTo4gnn7mdf5akdBzmvYTx/smSaBlwbQ8K8478QuA5Yb2bPB2VfBL4DFAIrg4kZnnL3vwwxDhEZpEe3NvPUjoNcsWgSVy6apElUxpgwe/U8zqknbH8wrGOKyPC4O2bGsjm1TBhXxKKpFVGHJCHQ324iAiQHWvu3h7fR0R0jLzdHSX8M0yBtIsJLe49y+5O7KCvMo6M7RqmGVB7T9K8rkuVWb23h3nV7qBtfzA3LZlFRrN47Y50Sv0gWW721hXvW7mHR1HKuv6CBwjxNip4NlPhFstjZ0yrp6I7xzoWTyNGYO1lDD3dFskxbVy/3P7+XeMIpL8rnyjMnK+lnGd3xi2SR/a1d/Pvvt9PWFeMt08ZTX1USdUgSASV+kSyxrbmNH6zeSW6u8TeXzlbSz2JK/CJZ4LlXDnPnH3ZTO66Qv1g2UwOtZTklfpEsUFNWyPzJ4/jQ0umUFOi/fbbTb4DIGNTeHePRLS0c7uzhQ0unU19Vwg3LZkUdlowSSvwiY8iRzh4e3tzMk9sP0htPsLiuknjCNT2ivIESv8gY8eKeI/zfJ3bh7jQ2VPGO+ROZVFEUdVgyCinxi2SwPYc7icWdhppSZtaWcdHsGt5+Rq0e3sqAlPhFMtCOlnZWbtzPhtdamTOhjE9dOoeywjzef25d1KFJBlDiF8kg25rbeXB9E9ua2yktzOPdZ01m2RzNSS2Do8QvMsq5OwmH3Bxj39EuDrR38763TOX8WdUaVE2GRIlfZJSKJ5w1uw7xu037uXjuBC6aU8PSmVUsnVlFnua/lWFQ4hcZZXpiCZ7acZCHNzdzqKOHqeOLGV+aHCNfCV9GghK/yCjzwyd2svG1VmbUlPKBxjoWTC7XZOcyopT4RSLW1tXL6q0HuPiMWsoK87h8wUTeMX8is2pLlfAlFEr8IhE53PH6W7axRIJJFYWcO72KmbVlUYcmY5wSv0iaJRLO3Wte5ZmdhwA4d/p4LlswkYnlestW0kOJXyRER4/1svNABzsPtNPeFeO68xvIyTF6YgkumFXNpfMnUlVaEHWYkmWU+EVGSCLhmIGZ8fjLB/jdpv0c6ugBIC/XmFFdemLAtA+fP13t9xIZJX6RIerqjbP7YCc7D7Sz40AHuw508IUr51NVWkBBXg5144u5eG4tM2pKqRtf/IaumEr6EiUlfpEUHerooTAvh9LCPDa8dpQVq3fgDmYwqaKIxulVuDsAS2ZUsWRGVcQRi5yaEr/IKSQSzt4jx9je0h600XdwpLOXa86tY9ncWuoqS7h8wSRm1pbSUF1KcYGGTpDMocQvAnT2xNh5oIOC3BzmTBxHdyzBN367BXcYX5LPzJpSZtSWMX9yOQAVJfm8+6zJEUctMjRK/DJmuTvHeuO0Hotx9FgvrV295OUY50wbD8AdT+7i1UOdHD3WS3csAcC8yeOYM3EcxQW53LBsJlMqihmvXjcyxijxS8Zqbuuipa2b1mMxWrt6aT3WS47ZiTHpv/vwNl5ubn9DnSmVxScSf3F+LlMqi5k/uZyK4nymVZcwrarkxLYLp1Sk72RE0ii0xG9m9cCdwETAgRXu/m0zqwLuBhqAXcC17n44rDhk9OqOxTnWE6cnlqAnnqA37vTGE8yZUIaZsWVfG9ua208k9dauXnpiCb707gUAPPhiE+teOXJifyUFuW94CeqtM6tZNLWC8uI8yovyqSjOp7w4/8T6a8+rT9/JiowiYd7xx4Cb3H2dmY0D1prZSuAjwCp3/5qZfQH4AvD5EOMY846P155wJ+FOXk4OuTlGPOF09MRIJJLrj283riiPovxcunrjtLR1433qJhymVBZRUpDH0WO9vHqo88T6uDu9sQQLp1ZQVpjHKwc7eWHPEXrjCXrjCXriyfXvf0sdFSX5PLvrEKs2NZ9Y3xtP0BNz/ud7F1BRnM/vNjbz0IZ9bzqfW685i6L8XDY1tfLIlmbGFSUTd3lxPuVF+SQSTk6OcdnCSVx8xgTKi/IoL84n/6SRK9WrRuTUQkv87t4ENAXLbWa2CZgKXA28PdjsDuD3hJj4V6zezoH2nhPd7ABm1pbxwSXTAPjOqpdpPdaL96kzf3I51wTNBV9/aDPHehJ4ny3Orq/k6rOnAnDzLzaS8L614a0zqrjyzMn0xhP84y834s6J+u7w9jMmcNmCibR3x/jqrzaeKD++mysWTeKSeRM42N7Nv/x68+vrg32875w6LppTw57DnXz9oS2cdHg+tHQ6S2ZUsfNAB99Z9fKbrsnHLprB4vpKtre08/1Hd7xp/Scvmc0Zk8axvaWd25/Y9ab1N142l7LCPPYeOcaqTfvJz82hIC/nxPeeeLK9vCgvl+rSAvJzjYK83OB7Dvm5yT7sZ06tYHxJ/om6eblGYbAMcOWZk3jv4ink5py6z/vUyuJTlovIwNLSxm9mDcA5wNPAxOBDAWAfyaagU9W5AbgBYNq0aUM+du24QvJycoJ9Jsuq+zysm1xRRHlR3vFjAlBT9vr6+vElJxLZ8fRT22ci65m1pW/40LDgmAA5ZsybVH7i2MfrTwqaI/JyjLcE7c3Hj28k26EBivJzuXB2NYbR932fKZXJ+uOK8rl8wSRygrdFcyx5zPqq4hPn/oHGOnLNTqw3M+qDduz6qhL++9tmkGPJ/eeYkWNG3fhk/TMmjuOmy+eeWJ+bYxTk5pxoLlk6s4rzZ1X3e+3PrKvgzLr+28mnVZcwrbqk3/WaXUokHOYn3y6O9AHMyoBHga+6+31mdsTdK/usP+zu4/vfAzQ2NvqaNWtCjVNEZKwxs7Xu3nhyeajT+ZhZPnAvcJe73xcU7zezycH6yUBzmDGIiMgbhZb4Ldluchuwyd2/2WfVA8D1wfL1wP1hxSAiIm8WZhv/hcB1wHozez4o+yLwNeAnZvYxYDdwbYgxiIjIScLs1fM4rz/PPNmlYR1XREQGFmobv4iIjD5K/CIiWUaJX0Qkyyjxi4hkmdBf4BoJZtZCsgfQUNQAB0YwnEyma5Gk65Ck6/C6sXotprt77cmFGZH4h8PM1pzqzbVspGuRpOuQpOvwumy7FmrqERHJMkr8IiJZJhsS/4qoAxhFdC2SdB2SdB1el1XXYsy38YuIyBtlwx2/iIj0ocQvIpJlMjrxm9kVZrbFzLYF8/eevL7QzO4O1j8dzAR2fN3fBeVbzOyd6Yx7pA31OpjZZWa21szWB9+Xpzv2kTac34lg/TQzazezz6Yr5jAM8//GWWb2BzPbEPxuFJ1cP1MM4/9GvpndEZz/JjP7u3THHip3z8gvIBfYDswECoAXgAUnbfMJ4HvB8p8AdzO9guMAAAWBSURBVAfLC4LtC4EZwX5yoz6nCK7DOcCUYHkRsDfq84nqWvRZfw/wU+CzUZ9PRL8TecCLwOLg5+os/b/xp8CPg+USYBfQEPU5jdRXJt/xLwG2ufsOd+8BfkxyIve+riY5oTsk/0NfGkwQczXJf9Rud98JbAv2l4mGfB3c/Tl3fy0o3wAUm1khmWs4vxOY2R8BO0lei0w2nOtwOfCiu78A4O4H3T2eprhH2nCugwOlZpYHFAM9QGt6wg5fJif+qcCrfX7eE5Sdcht3jwFHSd7BpFI3UwznOvT1fmCdu3eHFGc6DPlaBHNDfx74ShriDNtwfifmAm5mD5nZOjP7XBriDctwrsM9QAfQBLwCfMPdD4UdcLqEOQOXZAgzWwjcQvJuL1t9GfiWu7cHfwBkqzzgIuA8oBNYFUzYvSrasNJuCRAHpgDjgcfM7HfuviPasEZGJt/x7wXq+/xcF5SdcpvgT7YK4GCKdTPFcK4DZlYH/Az4sLtvDz3acA3nWrwVuNXMdgGfBr5oZn8ddsAhGc512AOsdvcD7t4JPAi8JfSIwzGc6/CnwG/cvdfdm4EngDEzlk8mJ/5ngTlmNsPMCkg+mHngpG36Tux+DfCwJ5/WPAD8SfBEfwYwB3gmTXGPtCFfBzOrBH4FfMHdn0hbxOEZ8rVw97e5e4O7NwD/Cvyzu383XYGPsOH833gIONPMSoJEeDGwMU1xj7ThXIdXgOUAZlYKLAU2pyXqdIj66fJwvoB3AVtJPrn/UlB2M3BVsFxEsofGNpKJfWaful8K6m0Broz6XKK4DsDfk2zHfL7P14Sozyeq34k++/gyGdyrZ7jXAfgQyQfcLwG3Rn0uUVwHoCwo30Dyg+9/RH0uI/mlIRtERLJMJjf1iIjIECjxi4hkGSV+EZEso8QvIpJllPhFRLKMEr/IaZjZX5rZh4Plj5jZlD7r/sPMFozAMb5sZnvN7OZB1rvLzA6Z2TXDjUGyh7pzigyCmf2eZB//NSO83y8D7e7+jSHUvR34pbvfM5IxydilO37JSGZ2npm9aGZFZlYajB2/6KRtGsxsc3BXvMnM7jGzkmDdpWb2XDDe+g+Pj0pqZl8zs43Bvr8RlH3ZzD4b3FU3AneZ2fNmVmxmvzezxmC7Dwb7e8nMbukTR7uZfdXMXjCzp8xsYgrn9+VgPPjHzGy3mb3PzG4N9v8bM8sfuasp2UaJXzKSuz9L8nX7fwJuBX7k7i+dYtMzgP/j7vNJDqv7CUtOLHI78N/c/UySA5P9lZlVA38MLHT3s4J99z3mPcAa4M/c/Wx3P3Z8XdD8cwvJ1/zPBs4LhnkGKAWecvfFwGrg4yme5qxgf1cBPwIeCeI9Brw7xX2IvIkSv2Sym4HLSN6F39rPNq/66+MQ/YjkyJNnADvdfWtQfgewjOSQvF3AbWb2PpKjU6bqPOD37t7iyeF97wr2Ccmx3H8ZLK8FGlLc56/dvRdYT3JSkd8E5esHsQ+RN1Hil0xWTXJMlXEkx1w5lZMfYvX7UCtI2EtIjsX+Hl5PtMPV668/TIuT+nDo3UFciZP2kRjEPkTeRIlfMtn3gX8geXd9Sz/bTDOz84PlPwUeJzkwX4OZzQ7KrwMeDSZjqXD3B4HPAItPsb82kh80J3sGuNjMaswsF/gg8OgQzkkkdLprkIwUdK/sdff/ChLtk2a23N0fPmnTLcAnzeyHJEdZ/Hd37zKzPwd+Ggw9/CzwPaAKuD94BmDAjac49O3A98zsGHD8AwV3b7LkZN6PBHV/5e73j+Q5i4wUdeeUMcvMGkh2c1x0mk0jp+6ckk5q6hEZHdqBG4byAhfJyVK6QolKxiTd8YuIZBnd8YuIZBklfhGRLKPELyKSZZT4RUSyjBK/iEiW+f/CaB6JbX2ylwAAAABJRU5ErkJggg==\n",
                "text/plain": "<Figure size 432x288 with 1 Axes>"
              }
            ],
            "_view_module": "@jupyter-widgets/output",
            "_model_module_version": "1.0.0",
            "_view_count": null,
            "_view_module_version": "1.0.0",
            "layout": "IPY_MODEL_ebf511ee9f98405885d92f6f354c33e8",
            "_model_module": "@jupyter-widgets/output"
          }
        },
        "1ed50bb4476f4ae3ac3b0e0bd0ad7737": {
          "model_module": "@jupyter-widgets/controls",
          "model_name": "SliderStyleModel",
          "state": {
            "_view_name": "StyleView",
            "handle_color": null,
            "_model_name": "SliderStyleModel",
            "description_width": "",
            "_view_module": "@jupyter-widgets/base",
            "_model_module_version": "1.5.0",
            "_view_count": null,
            "_view_module_version": "1.2.0",
            "_model_module": "@jupyter-widgets/controls"
          }
        },
        "5a743a7f36ca4c868722adb9c0ac203e": {
          "model_module": "@jupyter-widgets/base",
          "model_name": "LayoutModel",
          "state": {
            "_view_name": "LayoutView",
            "grid_template_rows": null,
            "right": null,
            "justify_content": null,
            "_view_module": "@jupyter-widgets/base",
            "overflow": null,
            "_model_module_version": "1.2.0",
            "_view_count": null,
            "flex_flow": null,
            "width": null,
            "min_width": null,
            "border": null,
            "align_items": null,
            "bottom": null,
            "_model_module": "@jupyter-widgets/base",
            "top": null,
            "grid_column": null,
            "overflow_y": null,
            "overflow_x": null,
            "grid_auto_flow": null,
            "grid_area": null,
            "grid_template_columns": null,
            "flex": null,
            "_model_name": "LayoutModel",
            "justify_items": null,
            "grid_row": null,
            "max_height": null,
            "align_content": null,
            "visibility": null,
            "align_self": null,
            "height": null,
            "min_height": null,
            "padding": null,
            "grid_auto_rows": null,
            "grid_gap": null,
            "max_width": null,
            "order": null,
            "_view_module_version": "1.2.0",
            "grid_template_areas": null,
            "object_position": null,
            "object_fit": null,
            "grid_auto_columns": null,
            "margin": null,
            "display": null,
            "left": null
          }
        },
        "2b7164c5c22d4840a56024407ef29404": {
          "model_module": "@jupyter-widgets/controls",
          "model_name": "SliderStyleModel",
          "state": {
            "_view_name": "StyleView",
            "handle_color": null,
            "_model_name": "SliderStyleModel",
            "description_width": "",
            "_view_module": "@jupyter-widgets/base",
            "_model_module_version": "1.5.0",
            "_view_count": null,
            "_view_module_version": "1.2.0",
            "_model_module": "@jupyter-widgets/controls"
          }
        },
        "b561b5bbb0bd4972b807202e9adf1dac": {
          "model_module": "@jupyter-widgets/base",
          "model_name": "LayoutModel",
          "state": {
            "_view_name": "LayoutView",
            "grid_template_rows": null,
            "right": null,
            "justify_content": null,
            "_view_module": "@jupyter-widgets/base",
            "overflow": null,
            "_model_module_version": "1.2.0",
            "_view_count": null,
            "flex_flow": null,
            "width": null,
            "min_width": null,
            "border": null,
            "align_items": null,
            "bottom": null,
            "_model_module": "@jupyter-widgets/base",
            "top": null,
            "grid_column": null,
            "overflow_y": null,
            "overflow_x": null,
            "grid_auto_flow": null,
            "grid_area": null,
            "grid_template_columns": null,
            "flex": null,
            "_model_name": "LayoutModel",
            "justify_items": null,
            "grid_row": null,
            "max_height": null,
            "align_content": null,
            "visibility": null,
            "align_self": null,
            "height": null,
            "min_height": null,
            "padding": null,
            "grid_auto_rows": null,
            "grid_gap": null,
            "max_width": null,
            "order": null,
            "_view_module_version": "1.2.0",
            "grid_template_areas": null,
            "object_position": null,
            "object_fit": null,
            "grid_auto_columns": null,
            "margin": null,
            "display": null,
            "left": null
          }
        },
        "4749d6030928418e8dae3f1f44aa8096": {
          "model_module": "@jupyter-widgets/controls",
          "model_name": "ButtonStyleModel",
          "state": {
            "_view_name": "StyleView",
            "_model_name": "ButtonStyleModel",
            "_view_module": "@jupyter-widgets/base",
            "_model_module_version": "1.5.0",
            "_view_count": null,
            "button_color": null,
            "font_weight": "",
            "_view_module_version": "1.2.0",
            "_model_module": "@jupyter-widgets/controls"
          }
        },
        "0863a09286ee47c7b0f8cc3c5e647425": {
          "model_module": "@jupyter-widgets/base",
          "model_name": "LayoutModel",
          "state": {
            "_view_name": "LayoutView",
            "grid_template_rows": null,
            "right": null,
            "justify_content": null,
            "_view_module": "@jupyter-widgets/base",
            "overflow": null,
            "_model_module_version": "1.2.0",
            "_view_count": null,
            "flex_flow": null,
            "width": null,
            "min_width": null,
            "border": null,
            "align_items": null,
            "bottom": null,
            "_model_module": "@jupyter-widgets/base",
            "top": null,
            "grid_column": null,
            "overflow_y": null,
            "overflow_x": null,
            "grid_auto_flow": null,
            "grid_area": null,
            "grid_template_columns": null,
            "flex": null,
            "_model_name": "LayoutModel",
            "justify_items": null,
            "grid_row": null,
            "max_height": null,
            "align_content": null,
            "visibility": null,
            "align_self": null,
            "height": null,
            "min_height": null,
            "padding": null,
            "grid_auto_rows": null,
            "grid_gap": null,
            "max_width": null,
            "order": null,
            "_view_module_version": "1.2.0",
            "grid_template_areas": null,
            "object_position": null,
            "object_fit": null,
            "grid_auto_columns": null,
            "margin": null,
            "display": null,
            "left": null
          }
        },
        "ebf511ee9f98405885d92f6f354c33e8": {
          "model_module": "@jupyter-widgets/base",
          "model_name": "LayoutModel",
          "state": {
            "_view_name": "LayoutView",
            "grid_template_rows": null,
            "right": null,
            "justify_content": null,
            "_view_module": "@jupyter-widgets/base",
            "overflow": null,
            "_model_module_version": "1.2.0",
            "_view_count": null,
            "flex_flow": null,
            "width": null,
            "min_width": null,
            "border": null,
            "align_items": null,
            "bottom": null,
            "_model_module": "@jupyter-widgets/base",
            "top": null,
            "grid_column": null,
            "overflow_y": null,
            "overflow_x": null,
            "grid_auto_flow": null,
            "grid_area": null,
            "grid_template_columns": null,
            "flex": null,
            "_model_name": "LayoutModel",
            "justify_items": null,
            "grid_row": null,
            "max_height": null,
            "align_content": null,
            "visibility": null,
            "align_self": null,
            "height": null,
            "min_height": null,
            "padding": null,
            "grid_auto_rows": null,
            "grid_gap": null,
            "max_width": null,
            "order": null,
            "_view_module_version": "1.2.0",
            "grid_template_areas": null,
            "object_position": null,
            "object_fit": null,
            "grid_auto_columns": null,
            "margin": null,
            "display": null,
            "left": null
          }
        }
      }
    }
  },
  "cells": [
    {
      "cell_type": "markdown",
      "metadata": {
        "id": "view-in-github",
        "colab_type": "text"
      },
      "source": [
        "<a href=\"https://colab.research.google.com/github/eddes/buildingphysics/blob/feature%2Fpipenv_and_notebooks/notebooks/chapter_2/PCM.ipynb\" target=\"_parent\"><img src=\"https://colab.research.google.com/assets/colab-badge.svg\" alt=\"Open In Colab\"/></a>"
      ]
    },
    {
      "cell_type": "code",
      "metadata": {
        "colab_type": "code",
        "id": "YmzfR3ILBDrc",
        "colab": {}
      },
      "source": [
        "import matplotlib.pyplot as plt\n",
        "import numpy as np\n",
        "import sys\n",
        "import os\n",
        "from ipywidgets import interact, interactive, fixed, interact_manual\n",
        "import ipywidgets as widgets\n",
        "import matplotlib.pyplot as plt\n",
        "module_path = os.path.abspath(os.path.join(os.pardir, os.pardir))\n",
        "if module_path not in sys.path:\n",
        "    sys.path.append(module_path)\n",
        "    \n",
        "rouge_A='#C60C2E'\n",
        "vert1_A='#005157'\n",
        "vert2_A='#627D77'\n",
        "vert3_A='#9EB28F'\n",
        "vert4_A='#C5E5A4'\n",
        "medblue='royalblue'\n",
        "gris1_A='#595A5C'\n",
        "\n",
        "colors=[rouge_A, vert1_A, vert2_A, vert3_A, vert4_A, medblue, gris1_A]\n"
      ],
      "execution_count": 0,
      "outputs": []
    },
    {
      "cell_type": "markdown",
      "metadata": {
        "colab_type": "text",
        "id": "hnTqgzKZBDrk"
      },
      "source": [
        "## Helper functions\n",
        "We define some method to model the phase material change.\n",
        "- `fc_fraction` returns the fraction of liquid `f` given current temperature `T`, fusion temperature `Tf` and the fusion interval `dTf`.\n",
        "- `fc_distrib` returns the distribution function for the apparent capacity \n",
        "- `fc_Cp_apparent` return the apparent thermal capacity of the material"
      ]
    },
    {
      "cell_type": "code",
      "metadata": {
        "colab_type": "code",
        "id": "jvfd4fApBDro",
        "colab": {}
      },
      "source": [
        "\n",
        "def fc_fraction(T,dTf,Tf):\n",
        "    if   T<(Tf-2*dTf): f=0 # all solid\n",
        "    elif T>(Tf+2*dTf): f=1 # all liquid\n",
        "    else:f=(T-Tf+2*dTf)/(dTf*4)\n",
        "    return f\n",
        "\n",
        "def fc_distrib(T,dTf,Tf):\n",
        "    T=T+273.15\n",
        "    Tf=Tf+273.15\n",
        "    return np.exp(-((T-Tf)/(dTf))**2)/np.sqrt(np.pi*dTf**2)\n",
        "\n",
        "def fc_Cp_apparent(T,dTf,Tf,Lf,Cp_s,Cp_l):\n",
        "    fraction=fc_fraction(T,dTf,Tf)\n",
        "    distrib=fc_distrib(T,dTf,Tf)\n",
        "    return Lf*distrib + Cp_s + fraction*(Cp_l-Cp_s)\n"
      ],
      "execution_count": 0,
      "outputs": []
    },
    {
      "cell_type": "markdown",
      "metadata": {
        "id": "xdckk9EhHG4z",
        "colab_type": "text"
      },
      "source": [
        "Defining here the K matrix as parti of the explicit Euler scheme (cf chapter 1)."
      ]
    },
    {
      "cell_type": "code",
      "metadata": {
        "colab_type": "code",
        "id": "bHqn0CRcBDrt",
        "colab": {}
      },
      "source": [
        "def init_K(n):\n",
        "    K=np.eye(n,n,k=-1)*1 + np.eye(n,n)*-2 + np.eye(n,n,k=1)*1\n",
        "    K[0,0]=0\n",
        "    K[0,1]=0\n",
        "    K[-1,-1]=0\n",
        "    K[-1,-2]=0\n",
        "    return K"
      ],
      "execution_count": 0,
      "outputs": []
    },
    {
      "cell_type": "markdown",
      "metadata": {
        "colab_type": "text",
        "id": "YOqxOruJBDr0"
      },
      "source": [
        "### Simulation and plot definition\n",
        "A method initializing Fo for each cell of the simulation is definied.\n",
        "Simulations variables defined outside methods for convenience.\n"
      ]
    },
    {
      "cell_type": "code",
      "metadata": {
        "id": "q6FlzrF3HqGM",
        "colab_type": "code",
        "colab": {}
      },
      "source": [
        "    # Cps in J/kg/K\n",
        "Cp_s=1800  # the sensible heat of the solid\n",
        "Cp_l=2400  # the sensible heat of the liquid fraction \n",
        "Lf=188000 # Lf latent heat of fusion\n",
        "\n",
        "\n",
        "    # Material properties\n",
        "L=0.1# m\n",
        "k=0.9 # material thermal resistivity (1/lambda)\n",
        "rho=800 # density\n",
        "Tmin=20\n",
        "Tmax=30\n",
        "T_init=Tmin\n",
        "    \n",
        "n = 12\n",
        "K = init_K(n)\n",
        "dx=L/n #   \n",
        "\n"
      ],
      "execution_count": 0,
      "outputs": []
    },
    {
      "cell_type": "code",
      "metadata": {
        "colab_type": "code",
        "id": "RJdRfiRKBDr1",
        "colab": {}
      },
      "source": [
        "#intialize the local Fourier number for PCMs\n",
        "def generate_Fo(dt,dTf,Tf):\n",
        "    Fo=np.zeros(n)\n",
        "    for i in range(len(Fo)):\n",
        "        Fo[i]=k*dt/(rho*fc_Cp_apparent(T_init,dTf,Tf,Lf,Cp_s,Cp_l)*dx**2)\n",
        "        # local stability check\n",
        "        if Fo[i]>0.5:\n",
        "            print(\"Fo - stability issue... i=\",i)\n",
        "            dt_min=0.5*dx**2*rho*Cp_s/k\n",
        "            print(\"minimum time step =\", round(dt_min,2))\n",
        "            dt=0.9*dt_min\n",
        "            print(\"changing to =\", round(dt,2))\n",
        "    return Fo"
      ],
      "execution_count": 0,
      "outputs": []
    },
    {
      "cell_type": "code",
      "metadata": {
        "colab_type": "code",
        "id": "LKT2ADTcBDr7",
        "colab": {}
      },
      "source": [
        "def compute_and_plot_PCM(Tf, dTf):\n",
        "    \n",
        "\n",
        "\n",
        "    dt = 5\n",
        "    T_plus,Cp_t=np.zeros(n),np.zeros(n)\n",
        "    T=np.ones(n)*T_init # initialize at Tmin\n",
        "    \n",
        "    # simulation time and time step\n",
        "    t=0\n",
        "    hours=0.1\n",
        "    sim_time=hours*3600 #s\n",
        "    \n",
        "    Fo = generate_Fo(dt,dTf,Tf)\n",
        "    \n",
        "    while t < sim_time:\n",
        "        # boundary conditions\n",
        "        T[0]=Tmin\n",
        "        T[n-1]=Tmax\n",
        "        \n",
        "        # update T \n",
        "        T_plus=Fo*np.dot(K,T) + T\n",
        "        \n",
        "        # update the local apparent Cp\n",
        "        for i in range(n):\n",
        "            Cp_t[i] = fc_Cp_apparent(T_plus[i],dTf,Tf,Lf,Cp_s,Cp_l)\n",
        "        \n",
        "        # Fo is updated and stability is tested\n",
        "        Fo=k*dt/(rho*Cp_t*dx**2)\n",
        "        if len(np.argwhere(Fo > 0.5))>0 :\n",
        "            indice=np.argwhere(Fo > 0.5)\n",
        "            print(\"stability issue during simulation... Fo =\", Fo[indice[0]])\n",
        "            print(\"occurred for... t=\", round(t,1), \" / i=\")\n",
        "        t+=dt #time increment\n",
        "        T=T_plus # T turns into T_plus to allow the calculation of the next T_plus\n",
        "    \n",
        "    # after the simulation is terminated, T is plotted with Tf as a reference\n",
        "    x_pos=np.arange(0,L,dx)\n",
        "    plt.plot(x_pos, np.ones(n)*Tf,color=colors[-1],linestyle=\"-\",alpha=0.9,marker='')\n",
        "    plt.xlabel(\"x position [m]\")\n",
        "    plt.ylabel(\"Temperature [°C]\")\n",
        "    plt.plot(x_pos, T_plus, alpha=0.65, linestyle=\"--\",marker='')\n",
        "\n"
      ],
      "execution_count": 0,
      "outputs": []
    },
    {
      "cell_type": "markdown",
      "metadata": {
        "colab_type": "text",
        "id": "M9GulfVYBDsA"
      },
      "source": [
        "### Interactive plot\n",
        "\n",
        "Tf and dTf can be picked in this plot. "
      ]
    },
    {
      "cell_type": "code",
      "metadata": {
        "colab_type": "code",
        "id": "WS8S9cenBDsB",
        "outputId": "5778a0e2-14ba-4c38-99bc-d30b47e3f752",
        "colab": {
          "base_uri": "https://localhost:8080/",
          "height": 392,
          "referenced_widgets": [
            "bc1c6918f1c34bf189e612decf07cb27",
            "070dee0f2fc84beaad77160345611097",
            "e9970a4b0a174af7b1a3b45835fc39ae",
            "5d4b35c743e54f7ab02c1bfb7027666c",
            "2e8032e5b79946609b34b28dc3dbb799",
            "467e0466e63f4c2eaeec55c2b76ed19a",
            "1ed50bb4476f4ae3ac3b0e0bd0ad7737",
            "5a743a7f36ca4c868722adb9c0ac203e",
            "2b7164c5c22d4840a56024407ef29404",
            "b561b5bbb0bd4972b807202e9adf1dac",
            "4749d6030928418e8dae3f1f44aa8096",
            "0863a09286ee47c7b0f8cc3c5e647425",
            "ebf511ee9f98405885d92f6f354c33e8"
          ]
        }
      },
      "source": [
        "%matplotlib inline\n",
        "interact_manual(compute_and_plot_PCM, \n",
        "                Tf = widgets.FloatSlider(value=27, min=20,\n",
        "                                               max=30,\n",
        "                                               step=0.1),\n",
        "                dTf = widgets.FloatSlider(value=0.01, min=0.001,\n",
        "                                               max=0.1,\n",
        "                                               step=0.001)\n",
        "               )\n"
      ],
      "execution_count": 0,
      "outputs": [
        {
          "output_type": "display_data",
          "data": {
            "application/vnd.jupyter.widget-view+json": {
              "model_id": "bc1c6918f1c34bf189e612decf07cb27",
              "version_minor": 0,
              "version_major": 2
            },
            "text/plain": [
              "interactive(children=(FloatSlider(value=27.0, description='Tf', max=30.0, min=20.0), FloatSlider(value=0.01, d…"
            ]
          },
          "metadata": {
            "tags": []
          }
        },
        {
          "output_type": "execute_result",
          "data": {
            "text/plain": [
              "<function __main__.compute_and_plot_PCM>"
            ]
          },
          "metadata": {
            "tags": []
          },
          "execution_count": 41
        }
      ]
    },
    {
      "cell_type": "code",
      "metadata": {
        "colab_type": "code",
        "id": "CgzlczpRBDsG",
        "colab": {}
      },
      "source": [
        ""
      ],
      "execution_count": 0,
      "outputs": []
    },
    {
      "cell_type": "code",
      "metadata": {
        "colab_type": "code",
        "id": "0cl1W53dBDsK",
        "colab": {}
      },
      "source": [
        ""
      ],
      "execution_count": 0,
      "outputs": []
    }
  ]
}